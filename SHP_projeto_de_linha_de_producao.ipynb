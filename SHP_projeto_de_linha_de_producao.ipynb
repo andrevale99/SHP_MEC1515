{
 "cells": [
  {
   "cell_type": "code",
   "execution_count": 23,
   "id": "2590c282-c97c-4edb-a10f-ad14653e3b51",
   "metadata": {},
   "outputs": [
    {
     "data": {
      "text/plain": [
       "'/home/andre/Documents/Codes/Python/SHP'"
      ]
     },
     "execution_count": 23,
     "metadata": {},
     "output_type": "execute_result"
    }
   ],
   "source": [
    "import numpy as np\n",
    "import os\n",
    "import matplotlib.pyplot as plt\n",
    "import pandas as pd\n",
    "\n",
    "PATH = os.getcwd()\n",
    "PATH"
   ]
  },
  {
   "cell_type": "markdown",
   "id": "87704c86-327c-43ae-abd5-73239ee2bbd2",
   "metadata": {},
   "source": [
    "# Funções"
   ]
  },
  {
   "cell_type": "markdown",
   "id": "c77e90d0-31ad-4bbf-bec4-cea78bbc8051",
   "metadata": {},
   "source": [
    "## Compressor"
   ]
  },
  {
   "cell_type": "markdown",
   "id": "9933bd1c-3dd2-4746-8698-9088feb9bf40",
   "metadata": {},
   "source": [
    "* $Qc$: somatório da vazão demandada por cada elemento\n",
    "* $K$: Fator que varia entre $1,2$ e $1,5$ (leva em consideração os vazamentos ou eventuais ampliações na planta pnemática)\n",
    "* $I$: Coeficiente de inserção\n",
    "    1. $T_t$: Tempo de funcionamento do compressor\n",
    "    2. $T_s$: Tempo de parada do compressor"
   ]
  },
  {
   "cell_type": "code",
   "execution_count": 24,
   "id": "2e0872b5-941f-41f8-8618-b5598efd54a1",
   "metadata": {},
   "outputs": [],
   "source": [
    "def coeficiente_de_insercao(Tt, Ts):\n",
    "    return (Tt / (Tt + Ts))\n",
    "\n",
    "def vazao_compressor(Qc, K, I):\n",
    "    return (Qc * K / I)"
   ]
  },
  {
   "cell_type": "markdown",
   "id": "7335f8c1-c35a-4e0f-accd-a69b1651fffd",
   "metadata": {},
   "source": [
    "## Atuadores (Cilindros)"
   ]
  },
  {
   "cell_type": "markdown",
   "id": "0924878c-d0e1-4cae-8f44-703bc1a76653",
   "metadata": {},
   "source": [
    "* $D$: diâmetro do pistão (mm)\n",
    "* $d$: diâmetro da haste (mm)\n",
    "* $c$: curso do pistão (mm)\n",
    "* $n$: número de ciclos por minuto (geralmente por ciclo entende-se uma fase de avanço e recuo)\n",
    "* $pr$: pressão relativa de regime (MPa - 0,1 MPa = 1 bar)\n",
    "* $pa$: pressão absoluta de regime (MPa - pa = pr + 0,1)\n",
    "* $pan$: pressão absoluta de regime da câmara negativa (lado haste)\n",
    "* $Q$: consumo do ar (litros / min)"
   ]
  },
  {
   "cell_type": "code",
   "execution_count": 25,
   "id": "c4d3ce7f-9a61-4ad6-b73a-37e8ebc92659",
   "metadata": {},
   "outputs": [],
   "source": [
    "# Consumo de ar de cilindros d0e simples efeito\n",
    "def consumo_cilindros_simples(D, c, pa, n):\n",
    "    return (D**2 * c * pa * n / 127000)\n",
    "\n",
    "# Consumo de ar de cilindros de duplo efeito\n",
    "def consumo_cilindros_duplo_efeito(D, d, c, pa, n, pressao_igual=False):\n",
    "    if pressao_igual == False:\n",
    "        return (c * n * (D**2 * pa + (D**2 - d**2) * pa * n / 127000))\n",
    "    \n",
    "    return (D**2 * c * pa * n / 63500)"
   ]
  },
  {
   "cell_type": "markdown",
   "id": "30e0ab5a-ca86-4079-83c2-5697a7db3187",
   "metadata": {},
   "source": [
    "# Dispositivos"
   ]
  },
  {
   "cell_type": "markdown",
   "id": "29538421-cb2b-4b53-89a5-4028c351b830",
   "metadata": {},
   "source": [
    "## Compressor"
   ]
  },
  {
   "cell_type": "code",
   "execution_count": 26,
   "id": "077d0877-90ec-401d-9a6d-96b6e1f27eac",
   "metadata": {},
   "outputs": [],
   "source": [
    "# Kgf / cm2\n",
    "pressao_do_compressor = 9"
   ]
  },
  {
   "cell_type": "markdown",
   "id": "908ce6d4-635f-411e-b2e7-13cfd50e5fa3",
   "metadata": {},
   "source": [
    "## Atuadores"
   ]
  },
  {
   "cell_type": "code",
   "execution_count": 27,
   "id": "49c5ef86-ae03-4698-96a6-7d1e63a99efc",
   "metadata": {},
   "outputs": [
    {
     "data": {
      "text/plain": [
       "array([[32, 10, 25],\n",
       "       [40,  5, 30],\n",
       "       [50, 10, 25],\n",
       "       [80, 40,  8]])"
      ]
     },
     "execution_count": 27,
     "metadata": {},
     "output_type": "execute_result"
    }
   ],
   "source": [
    "# Diametro, Curso, numero de ciclos\n",
    "atuadores = np.array(\n",
    "    [[32, 10, 25],\n",
    "    [40, 5, 30],\n",
    "    [50, 10, 25],\n",
    "    [80, 40, 8]]\n",
    ")\n",
    "\n",
    "atuadores"
   ]
  },
  {
   "cell_type": "code",
   "execution_count": 34,
   "id": "0d6c74ab-6676-436f-ac81-bcdf34f723f8",
   "metadata": {},
   "outputs": [
    {
     "name": "stdout",
     "output_type": "stream",
     "text": [
      "Vazao atuadores (Qc) = 26.07732283464567 m3/h\n",
      "Vazao parafusadeiras (Qc) = 1197 m3/h\n",
      "Vazao total (Qc) = 1223.0773228346457 m3/h\n"
     ]
    }
   ],
   "source": [
    "Qc_atuadores =  8 * consumo_cilindros_simples(atuadores[0][0],  atuadores[0][1], pressao_do_compressor, atuadores[0][2]) + 4 * consumo_cilindros_simples(atuadores[1][0],  atuadores[1][1], pressao_do_compressor, atuadores[1][2]) + 4 * consumo_cilindros_simples(atuadores[2][0],  atuadores[2][1], pressao_do_compressor, atuadores[2][2]) + consumo_cilindros_simples(atuadores[2][0],  atuadores[2][1], pressao_do_compressor, atuadores[2][2])\n",
    "\n",
    "# Conversao de litros/minutos para m3/h\n",
    "Qc_atuadores *= 0.06\n",
    "\n",
    "# Valor arbitrário para a vazao\n",
    "vazao_parafusadeira = 21\n",
    "Qc_parafusadeiras = (6 + 10 + 6 + 15 +12 + 8) * vazao_parafusadeira  \n",
    "\n",
    "Qc_total = Qc_atuadores + Qc_parafusadeiras\n",
    "print(f'Vazao atuadores (Qc) = {Qc_atuadores} m3/h')\n",
    "print(f'Vazao parafusadeiras (Qc) = {Qc_parafusadeiras} m3/h')\n",
    "print(f'Vazao total (Qc) = {Qc_total} m3/h')"
   ]
  },
  {
   "cell_type": "code",
   "execution_count": 36,
   "id": "4708fece-59a2-47ed-bf8a-a0a76508eacd",
   "metadata": {},
   "outputs": [
    {
     "name": "stdout",
     "output_type": "stream",
     "text": [
      "2201.5391811023624\n"
     ]
    }
   ],
   "source": [
    "Q = vazao_compressor(Qc_total, 1.2, coeficiente_de_insercao(2, 1))\n",
    "print(Q)"
   ]
  }
 ],
 "metadata": {
  "kernelspec": {
   "display_name": "Python 3 (ipykernel)",
   "language": "python",
   "name": "python3"
  },
  "language_info": {
   "codemirror_mode": {
    "name": "ipython",
    "version": 3
   },
   "file_extension": ".py",
   "mimetype": "text/x-python",
   "name": "python",
   "nbconvert_exporter": "python",
   "pygments_lexer": "ipython3",
   "version": "3.9.10"
  }
 },
 "nbformat": 4,
 "nbformat_minor": 5
}
