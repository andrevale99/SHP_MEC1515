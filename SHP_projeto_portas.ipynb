{
 "cells": [
  {
   "cell_type": "code",
   "execution_count": 2,
   "metadata": {},
   "outputs": [
    {
     "data": {
      "text/plain": [
       "'/home/andre/Documents/Git/SHP_MEC1515'"
      ]
     },
     "execution_count": 2,
     "metadata": {},
     "output_type": "execute_result"
    }
   ],
   "source": [
    "import numpy as np\n",
    "import os\n",
    "import matplotlib.pyplot as plt\n",
    "import pandas as pd\n",
    "\n",
    "PATH = os.getcwd()\n",
    "PATH"
   ]
  },
  {
   "cell_type": "markdown",
   "metadata": {},
   "source": [
    "# Funções"
   ]
  },
  {
   "cell_type": "markdown",
   "metadata": {},
   "source": [
    "## Compressor"
   ]
  },
  {
   "cell_type": "markdown",
   "metadata": {},
   "source": [
    "* $Qc$: somatório da vazão demandada por cada elemento\n",
    "* $K$: Fator que varia entre $1,2$ e $1,5$ (leva em consideração os vazamentos ou eventuais ampliações na planta pnemática)\n",
    "* $I$: Coeficiente de inserção\n",
    "    1. $T_t$: Tempo de funcionamento do compressor\n",
    "    2. $T_s$: Tempo de parada do compressor"
   ]
  },
  {
   "cell_type": "code",
   "execution_count": 3,
   "metadata": {},
   "outputs": [],
   "source": [
    "def coeficiente_de_insercao(Tt, Ts):\n",
    "    return (Tt / (Tt + Ts))\n",
    "\n",
    "def vazao_compressor(Qc, K, I):\n",
    "    return (Qc * K / I)"
   ]
  },
  {
   "cell_type": "markdown",
   "metadata": {},
   "source": [
    "## Atuadores (Cilindros)"
   ]
  },
  {
   "cell_type": "markdown",
   "metadata": {},
   "source": [
    "* $D$: diâmetro do pistão (mm)\n",
    "* $d$: diâmetro da haste (mm)\n",
    "* $c$: curso do pistão (mm)\n",
    "* $n$: número de ciclos por minuto (geralmente por ciclo entende-se uma fase de avanço e recuo)\n",
    "* $pr$: pressão relativa de regime (MPa - 0,1 MPa = 1 bar)\n",
    "* $pa$: pressão absoluta de regime (MPa - pa = pr + 0,1)\n",
    "* $pan$: pressão absoluta de regime da câmara negativa (lado haste)\n",
    "* $Q$: consumo do ar (litros / min)"
   ]
  },
  {
   "cell_type": "code",
   "execution_count": 4,
   "metadata": {},
   "outputs": [],
   "source": [
    "# Consumo de ar de cilindros d0e simples efeito\n",
    "def consumo_cilindros_simples(D, c, pa, n):\n",
    "    return (D**2 * c * pa * n / 127000)\n",
    "\n",
    "# Consumo de ar de cilindros de duplo efeito\n",
    "def consumo_cilindros_duplo_efeito(D, d, c, pa, n, pressao_igual=False):\n",
    "    if pressao_igual == False:\n",
    "        return (c * n * (D**2 * pa + (D**2 - d**2) * pa * n / 127000))\n",
    "    \n",
    "    return (D**2 * c * pa * n / 63500)"
   ]
  },
  {
   "cell_type": "markdown",
   "metadata": {},
   "source": [
    "## Reservatório\n",
    "\n",
    "* $pr$: pressão relativa (MPa)\n",
    "* $pa_0$: pressão absoluta do ar no estado livre (MPa)\n",
    "* $V_0$: Volume de ar no estado livre ($m^3$)\n",
    "* $pa_1$: Pressão absoluta do ar armazenado (MPa)\n",
    "* $V_1$: Capacidade Total (Vazão total) em $m^3$"
   ]
  },
  {
   "cell_type": "code",
   "execution_count": 5,
   "metadata": {},
   "outputs": [],
   "source": [
    "def capacidade_reservatorio(pr, V0, pa0=0.1):\n",
    "    pa1 = pr + pa0\n",
    "    return (V0 * pa0 / pa1)"
   ]
  },
  {
   "cell_type": "markdown",
   "metadata": {},
   "source": [
    "# Dados do projeto"
   ]
  },
  {
   "cell_type": "code",
   "execution_count": 21,
   "metadata": {},
   "outputs": [
    {
     "name": "stdout",
     "output_type": "stream",
     "text": [
      "Perimetro total (m): 129.0\n",
      "extensoes: 20\n",
      "Perda ocasionado pelos Ts: 18.7\n",
      "Perdas dos joelhos de 90 graus: 16.8\n",
      "Perdas dos joelhos de 45 graus: 8.0\n"
     ]
    }
   ],
   "source": [
    "# Perimetro total \n",
    "perimetro_tubulacao = 2*18 + 7*13 + 2.0\n",
    "\n",
    "# Quantidade extensoes que irao para \n",
    "#os atuadores das portas\n",
    "extensoes = 20\n",
    "\n",
    "# Perda de carga total dos elemetos\n",
    "#do canal do sistema\n",
    "Ts = 11 * 1.7\n",
    "joelho_90 = 20 * 0.7 + 4 * 0.7\n",
    "joelho_45 = 20 * 0.4\n",
    "\n",
    "print(f'Perimetro total (m): {perimetro_tubulacao}')\n",
    "print(f'extensoes: {extensoes}')\n",
    "print(f'Perda ocasionado pelos Ts: {Ts}')\n",
    "print(f'Perdas dos joelhos de 90 graus: {joelho_90}')\n",
    "print(f'Perdas dos joelhos de 45 graus: {joelho_45}')"
   ]
  },
  {
   "cell_type": "markdown",
   "metadata": {},
   "source": [
    "## Preço Componentes"
   ]
  },
  {
   "cell_type": "markdown",
   "metadata": {},
   "source": [
    "### Links\n",
    "\n",
    "1. Pneu_3WaysValve: \n",
    "*  [Pneu_3WaysValve](https://produto.mercadolivre.com.br/MLB-3604089439-valvula-esfera-3-vias-l-1-inox-304-bsp-atuador-dupla-aco-_JM) (operation: 0 - 8 bar)\n",
    "\n",
    "* [Pneu_3WaysValve](https://produto.mercadolivre.com.br/MLB-4657623390-valvula-esfera-3-vias-inox-rosca-34-bsp-atuador-dupla-aco-_JM#polycard_client=recommendations_vip-pads-up&reco_backend=vip-pads-up-experimental-a_marketplace&reco_model=ranker_entity_v2&reco_client=vip-pads-up&reco_item_pos=3&reco_backend_type=low_level&reco_id=c9efef8a-c2c5-4c45-af54-ee44fcfd7bd5&wid=MLB4657623390&sid=recos&is_advertising=true&ad_domain=VIPDESKTOP_UP&ad_position=4&ad_click_id=ZjJiNWZlYzMtYzczNy00YWE1LWJmNzUtN2EyZmU0NjRhM2Vh) (operation: 0 - 8 bar)\n",
    "\n",
    "* [Pneu_3WaysValve](https://produto.mercadolivre.com.br/MLB-3604089439-valvula-esfera-3-vias-l-1-inox-304-bsp-atuador-dupla-aco-_JM#polycard_client=recommendations_vip-pads-up&reco_backend=vip-pads-up-experimental-a_marketplace&reco_model=ranker_entity_v2&reco_client=vip-pads-up&reco_item_pos=3&reco_backend_type=low_level&reco_id=7a01d7bc-9e61-44f7-9843-dfba6b192f44&wid=MLB3604089439&sid=recos&is_advertising=true&ad_domain=VIPDESKTOP_UP&ad_position=4&ad_click_id=NTMxZjg5ZjEtYTJhYi00NjRhLTliMmQtMmRhN2ZlZWFkZWFl) (operation: 0 - 8 bar)\n",
    "\n",
    "<br>\n",
    "\n",
    "2. Pneu_RegisterValve:\n",
    "* [Pneu_RegisterValve](https://lfautomacao.com.br/products/valvula-esfera-mini-m-f-1-4?variant=45139439026498&country=BR&currency=BRL&utm_medium=product_sync&utm_source=google&utm_content=sag_organic&utm_campaign=sag_organic&utm_source=&utm_medium=&utm_campaign=&utm_content=&gad_source=1&gclid=Cj0KCQiA19e8BhCVARIsALpFMgEodeQtTI8wxnux3LrEpW_S0SSk5c01HWXtndNtISOookFEkKNXJu4aApdyEALw_wcB) (operation: 0 - 16 bar)\n",
    "\n",
    "* [Pneu_RegisterValve](https://www.conecfit.com.br/produtos/mini-valvula-esfera-machoxfemea-3-8/?variant=955983600&pf=mc&gad_source=4&gclid=Cj0KCQiA19e8BhCVARIsALpFMgHHpWTi5bUf3u7U7_MfdZOl0nk18PJ7wiccGKI02TRtx7IfDSrl9JQaAgy0EALw_wcB) (operation: 0 - 6 bar)\n",
    "\n",
    "<br>\n",
    "\n",
    "3. Pneu_DrainValve:\n",
    "* [Pneu_DrainValve](https://www.conecfit.com.br/produtos/valvula-solenoide-2vias-16bar-1-2220vca/?variant=956045908&pf=mc&gad_source=1&gclid=Cj0KCQiA19e8BhCVARIsALpFMgH9nbYfXipwIUmtqe3seNuw4dFSEb65lFWCyStoxmobvosGZTppys4aAuIbEALw_wcB) (operation: 0 - 16 bar)\n",
    "\n",
    "* [Pneu_DrainValve](https://www.tauana.com.br/valvula-solenoide/valvula-solenoide-agua-ar-oleo/vs3513ba04nf-valvula-solenoide-latao-12-bsp?gad_source=1&gclid=Cj0KCQiA19e8BhCVARIsALpFMgEv1Oy0WxygwqY496xu89GEwQgiire1GvkWqmpHUlNtIL_W5flfiG4aAhD-EALw_wcB) (operation: 0 - 8 bar)\n",
    "\n",
    "* [Pneu_DrainValve](https://www.conecfit.com.br/produtos/valvula-pneumatica-purgadoratimer-220vca/?variant=958126577&pf=mc&gad_source=1&gclid=Cj0KCQiA19e8BhCVARIsALpFMgEEGwH-6HRFA7sYwMP67AEbklsD9OuAfP8Mt3r5HZf32A0gOeyOmsgaArQDEALw_wcB) (operation: 0 - 8 bar)\n",
    "\n",
    "<br>\n",
    "\n",
    "4. Pneu_Actuator:\n",
    "* [Pneu_Actuator](https://www.tauana.com.br/atuador-para-valvula/atuador-pneumatico/ap700l052-atuador-pneumatico-dupla-acao-22-nm?gad_source=1&gclid=Cj0KCQiA19e8BhCVARIsALpFMgHfuIpJ2g7SBsRbG4EAzFZ8WKbjOTolhN-ctR4cz8R02GeL9Tcwc9MaAvGUEALw_wcB) (operation: 0 - 8 bar)\n",
    "\n",
    "* [Pneu_Actuator](https://www.conecfit.com.br/produtos/atuador-pneumatico-dupla-acao-52mm-eco/?variant=956637253&pf=mc&gad_source=1&gclid=Cj0KCQiA19e8BhCVARIsALpFMgEoM_N6CDG-12m5bxbcSEgEPI2X-iu7H3i08zyIQU80LkETztiFwocaAjKHEALw_wcB) (operation: 0 - 8 bar)\n",
    "\n",
    "* [Pneu_Actuator](https://www.acasadoatuador.com.br/produtos/atuador-pneumatico-de-dupla-acao-at52-para-valvulas/?variant=853507488&pf=mc&gad_source=1&gclid=Cj0KCQiA19e8BhCVARIsALpFMgEJN5KnZAujnvTrAIXeZhmuYmlE3abaM1UO904K4i_RGo8jhEB7GGYaAlmTEALw_wcB) (operation: 0 - 6 bar)\n",
    "\n",
    "<br>\n",
    "\n",
    "5. Lubrifil\n",
    "* [Lubrifil](https://www.amazon.com.br/Regulador-Press%C3%A3o-Comprimido-Compressor-Man%C3%B4metro/dp/B0CTYTM6QN/ref=asc_df_B0CTYTM6QN/?tag=googleshopp00-20&linkCode=df0&hvadid=709857067809&hvpos=&hvnetw=g&hvrand=5418949770809360356&hvpone=&hvptwo=&hvqmt=&hvdev=c&hvdvcmdl=&hvlocint=&hvlocphy=9198996&hvtargid=pla-2292350590546&psc=1&mcid=aae8a2ac30ff3cd08b67a43029c119a2&gad_source=1)\n",
    "\n",
    "* [Lubrifil](https://www.riberfluid.com.br/mais-produtos/filtro-regulador-dn-14-com-manometro?parceiro=3293&gad_source=1&gclid=Cj0KCQiA19e8BhCVARIsALpFMgEwnwHsUgPfqMJXS7Uy8LHoE-dBLVzzeINPP6pFyqYdaVjArhS9bagaAs9IEALw_wcB)\n",
    "\n",
    "* [Lubrifil](https://www.tauana.com.br/linha-pneumatica/unidade-de-tratamento-de-ar/pn-afc2000-lubrifil-14-com-manometro?gad_source=1&gclid=Cj0KCQiA19e8BhCVARIsALpFMgFxHPelZIcd6wd7LljXVqhJNLDvNA8Jf2KmiOhYnYAsXhoa80e3ydIaAjMwEALw_wcB)\n",
    "\n",
    "* [Lubrifil](https://lfautomacao.com.br/products/filtro-regulador-mini-1-4?variant=45161450897730&country=BR&currency=BRL&utm_medium=product_sync&utm_source=google&utm_content=sag_organic&utm_campaign=sag_organic&utm_source=&utm_medium=&utm_campaign=&utm_content=&gad_source=1&gclid=Cj0KCQiA19e8BhCVARIsALpFMgG8AIHBAyyvo9oPiAIsXvVjppWWmXl0Ghz9AKZGyGrFMm7X7zEKUesaAtbREALw_wcB)"
   ]
  },
  {
   "cell_type": "code",
   "execution_count": 34,
   "metadata": {},
   "outputs": [
    {
     "name": "stdout",
     "output_type": "stream",
     "text": [
      "Valvulas direcionais: R$ 15751.339999999998\n",
      "Valvulas de Registro: R$ 552.115\n",
      "Vvalvulas de dreno: R$ 371.2266666666667\n",
      "Janelas: R$ 7781.1\n",
      "Lubrifil: R$ 65.1075\n"
     ]
    }
   ],
   "source": [
    "# 20 salas com uma valvula para o acionamento da porta\n",
    "Pneu_3WaysValve = np.mean([646.95, 710.97, 789.99]) * 22\n",
    "\n",
    "# 20 salas com 1 registro em cada\n",
    "Pneu_RegisterValve = np.mean([21.75, 26.26]) * 23\n",
    "\n",
    "# 2 valvulas de dreno para o sistema, uma qm cada extremidade do predio\n",
    "Pneu_DrainValve = np.mean([155.97, 209.90, 190.97]) * 2\n",
    "\n",
    "# 15 janelas e 2 atuadores em cada\n",
    "Pneu_Actuator = np.mean([230., 288.12, 259.99]) * 15 * 2\n",
    "\n",
    "Lubrifil = np.mean([48.99, 66.54, 90.0, 54.9])\n",
    "\n",
    "print(f'Valvulas direcionais: R$ {Pneu_3WaysValve}')\n",
    "print(f'Valvulas de Registro: R$ {Pneu_RegisterValve}')\n",
    "print(f'Vvalvulas de dreno: R$ {Pneu_DrainValve}')\n",
    "print(f'Janelas: R$ {Pneu_Actuator}')\n",
    "print(f'Lubrifil: R$ {Lubrifil}')"
   ]
  }
 ],
 "metadata": {
  "kernelspec": {
   "display_name": "Python 3",
   "language": "python",
   "name": "python3"
  },
  "language_info": {
   "codemirror_mode": {
    "name": "ipython",
    "version": 3
   },
   "file_extension": ".py",
   "mimetype": "text/x-python",
   "name": "python",
   "nbconvert_exporter": "python",
   "pygments_lexer": "ipython3",
   "version": "3.9.10"
  }
 },
 "nbformat": 4,
 "nbformat_minor": 2
}
